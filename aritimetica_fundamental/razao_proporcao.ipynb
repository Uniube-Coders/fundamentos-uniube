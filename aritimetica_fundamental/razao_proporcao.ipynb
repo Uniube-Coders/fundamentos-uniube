{
 "cells": [
  {
   "cell_type": "markdown",
   "metadata": {},
   "source": [
    "## 📚 Razão, Proporcionalidade e Regra de Três\n",
    "\n",
    "### **1. Razão**\n",
    "\n",
    "**Conceito de Razão:**\n",
    "- **Razão** é a comparação entre dois números, representando a relação entre uma quantidade e outra. Ela é expressa como uma fração ou na forma de dois números separados por dois pontos (a:b).\n",
    "- **Forma Geral:** $ \\text{Razão} = \\frac{a}{b} $ ou $ a:b $, onde:\n",
    "  - $ a $ é o antecedente.\n",
    "  - $ b $ é o consequente.\n",
    "\n",
    "**Exemplos de Razão:**\n",
    "- Se há 4 maçãs para cada 2 laranjas, a razão entre maçãs e laranjas é $ 4:2 $ ou $ \\frac{4}{2} = 2 $, significando que há 2 maçãs para cada laranja.\n",
    "- Em uma receita que usa 3 xícaras de farinha e 1 xícara de açúcar, a razão de farinha para açúcar é $ 3:1 $.\n",
    "\n",
    "**Aplicações da Razão:**\n",
    "- A razão é usada em diversos contextos, como escalas de mapas, comparação de quantidades, proporções em receitas, e problemas financeiros.\n",
    "\n",
    "### **2. Proporcionalidade**\n",
    "\n",
    "**Proporção:**\n",
    "- **Proporção** é uma equação que afirma que duas razões são iguais. Se $ \\frac{a}{b} = \\frac{c}{d} $, então a:b e c:d são proporcionais.\n",
    "- **Forma Geral:** $ \\frac{a}{b} = \\frac{c}{d} $, onde $ a, b, c, d $ são números reais e $ b $ e $ d $ são diferentes de zero.\n",
    "\n",
    "**Exemplo de Proporção:**\n",
    "- Se 2 lápis custam R$4, então 4 lápis custam R$8, mantendo a proporção $ \\frac{2}{4} = \\frac{4}{8} $.\n",
    "- Para resolver a proporção $ \\frac{2}{3} = \\frac{x}{6} $, multiplicamos cruzado: $ 2 \\times 6 = 3 \\times x $, resultando em $ x = 4 $.\n",
    "\n",
    "**Tipos de Proporcionalidade:**\n",
    "\n",
    "1. **Proporcionalidade Direta:**\n",
    "   - Quando uma grandeza aumenta ou diminui, a outra aumenta ou diminui na mesma proporção.\n",
    "   - **Exemplo:** Se um carro viaja a uma velocidade constante, o tempo necessário para percorrer uma distância é diretamente proporcional à distância. Se a velocidade é de 60 km/h, para percorrer 120 km, o tempo necessário será o dobro do tempo necessário para percorrer 60 km.\n",
    "   - **Equação Geral:** $ y = kx $, onde $ k $ é a constante de proporcionalidade.\n",
    "\n",
    "2. **Proporcionalidade Inversa:**\n",
    "   - Quando uma grandeza aumenta, a outra diminui na mesma proporção, e vice-versa.\n",
    "   - **Exemplo:** Se 3 trabalhadores completam uma tarefa em 6 horas, o dobro de trabalhadores (6) completaria a tarefa em metade do tempo (3 horas), mantendo a relação inversa entre trabalhadores e tempo.\n",
    "   - **Equação Geral:** $ y = \\frac{k}{x} $, onde $ k $ é a constante de proporcionalidade.\n",
    "\n",
    "### **3. Regra de Três**\n",
    "\n",
    "**Conceito de Regra de Três:**\n",
    "- A **Regra de Três** é uma técnica matemática usada para encontrar um valor desconhecido em uma proporção. Ela é utilizada para resolver problemas que envolvem proporções diretas ou inversas.\n",
    "- **Regra de Três Simples:** Usada quando a proporção envolve duas grandezas.\n",
    "\n",
    "**Exemplo de Regra de Três Simples:**\n",
    "- **Problema:** Se 5 metros de tecido custam R$50, quanto custam 8 metros?\n",
    "  - Primeira proporção: $$ \\frac{5 \\, \\text{m}}{50 \\, \\text{R\\$}} $$\n",
    "  - Segunda proporção: $$ \\frac{8 \\, \\text{m}}{x \\, \\text{R\\$}} $$\n",
    "  - **Solução:** Multiplicando cruzado: $ 5x = 8 \\times 50 $, então $ x = \\frac{400}{5} = 80 $. Os 8 metros custam R$80.\n",
    "\n",
    "**Regra de Três Composta:**\n",
    "- **Regra de Três Composta** é usada quando a proporção envolve mais de duas grandezas.\n",
    "- **Exemplo:** Se 4 máquinas produzem 200 peças em 5 horas, quantas peças 6 máquinas produzirão em 8 horas?\n",
    "  - A proporção envolve três grandezas: máquinas, peças, e tempo.\n",
    "  - Monta-se uma tabela para comparar as grandezas e aplicar a Regra de Três.\n",
    "\n",
    "**Aplicações da Regra de Três:**\n",
    "- A Regra de Três é amplamente utilizada em situações do cotidiano, como cálculos de custos, tempo de trabalho, produção, velocidade, e consumo.\n",
    "\n",
    "---"
   ]
  },
  {
   "cell_type": "code",
   "execution_count": 31,
   "metadata": {},
   "outputs": [
    {
     "name": "stdout",
     "output_type": "stream",
     "text": [
      "Vamos calcular a razão entre dois números.\n",
      "Razão:\n"
     ]
    },
    {
     "data": {
      "text/latex": [
       "$\\displaystyle \\text{A razão entre } 3.0 \\text{ e } 2.0 \\text{ é } \\frac{3.0}{2.0} = 1.5$"
      ],
      "text/plain": [
       "<IPython.core.display.Math object>"
      ]
     },
     "metadata": {},
     "output_type": "display_data"
    },
    {
     "name": "stdout",
     "output_type": "stream",
     "text": [
      "\n",
      "Vamos verificar se duas proporções são iguais.\n",
      "Proporção:\n"
     ]
    },
    {
     "data": {
      "text/latex": [
       "$\\displaystyle \\frac{3.0}{2.0} = \\frac{2.0}{1.0} \\quad \\text{é uma proporção?} \\quad \\text{False}$"
      ],
      "text/plain": [
       "<IPython.core.display.Math object>"
      ]
     },
     "metadata": {},
     "output_type": "display_data"
    },
    {
     "name": "stdout",
     "output_type": "stream",
     "text": [
      "\n",
      "Vamos resolver um problema de Regra de Três Simples.\n",
      "Você precisará inserir três valores: a, b, e c. O programa calculará o valor desconhecido x na proporção a:b = c:x.\n"
     ]
    },
    {
     "data": {
      "text/latex": [
       "$\\displaystyle \\text{Regra de Três Simples:}$"
      ],
      "text/plain": [
       "<IPython.core.display.Math object>"
      ]
     },
     "metadata": {},
     "output_type": "display_data"
    },
    {
     "data": {
      "text/latex": [
       "$\\displaystyle \\frac{2.0}{3.0} = \\frac{4.0}{x} \\Rightarrow x = \\frac{4.0 \\times 3.0}{2.0}$"
      ],
      "text/plain": [
       "<IPython.core.display.Math object>"
      ]
     },
     "metadata": {},
     "output_type": "display_data"
    },
    {
     "data": {
      "text/latex": [
       "$\\displaystyle x = 6.0$"
      ],
      "text/plain": [
       "<IPython.core.display.Math object>"
      ]
     },
     "metadata": {},
     "output_type": "display_data"
    },
    {
     "name": "stdout",
     "output_type": "stream",
     "text": [
      "\n",
      "Agora, vamos resolver um problema de Regra de Três Composta.\n",
      "Você precisará inserir os valores das grandezas conhecidas e, em seguida, o valor da grandeza desconhecida.\n"
     ]
    },
    {
     "data": {
      "text/latex": [
       "$\\displaystyle \\text{Regra de Três Composta:}$"
      ],
      "text/plain": [
       "<IPython.core.display.Math object>"
      ]
     },
     "metadata": {},
     "output_type": "display_data"
    },
    {
     "data": {
      "text/latex": [
       "$\\displaystyle x \\times 1.0 = 2.0\\times 3.0\\times 2.0\\times 3.0\\times 2.0$"
      ],
      "text/plain": [
       "<IPython.core.display.Math object>"
      ]
     },
     "metadata": {},
     "output_type": "display_data"
    },
    {
     "data": {
      "text/latex": [
       "$\\displaystyle x = \\frac{2.0\\times 3.0\\times 2.0\\times 3.0\\times 2.0}{1.0}$"
      ],
      "text/plain": [
       "<IPython.core.display.Math object>"
      ]
     },
     "metadata": {},
     "output_type": "display_data"
    },
    {
     "data": {
      "text/latex": [
       "$\\displaystyle x = 72.0$"
      ],
      "text/plain": [
       "<IPython.core.display.Math object>"
      ]
     },
     "metadata": {},
     "output_type": "display_data"
    }
   ],
   "source": [
    "from IPython.display import display, Math\n",
    "\n",
    "# Função para calcular a razão\n",
    "def calcular_razao(a, b):\n",
    "    razao = a / b\n",
    "    display(Math(rf\"\\text{{A razão entre }} {a} \\text{{ e }} {b} \\text{{ é }} \\frac{{{a}}}{{{b}}} = {razao}\"))\n",
    "    return razao\n",
    "\n",
    "# Função para calcular a proporção\n",
    "def calcular_proporcao(a, b, c, d):\n",
    "    proporcao = (a / b) == (c / d)\n",
    "    display(Math(rf\"\\frac{{{a}}}{{{b}}} = \\frac{{{c}}}{{{d}}} \\quad \\text{{é uma proporção?}} \\quad \\text{{{proporcao}}}\"))\n",
    "    return proporcao\n",
    "\n",
    "# Função para resolver a regra de três simples\n",
    "def regra_de_tres_simples(a, b, c):\n",
    "    x = (c * b) / a\n",
    "    display(Math(rf\"\\text{{Regra de Três Simples:}}\"))\n",
    "    display(Math(rf\"\\frac{{{a}}}{{{b}}} = \\frac{{{c}}}{{x}} \\Rightarrow x = \\frac{{{c} \\times {b}}}{{{a}}}\"))\n",
    "    display(Math(rf\"x = {x}\"))\n",
    "    return x\n",
    "\n",
    "# Função para resolver a regra de três composta\n",
    "def regra_de_tres_composta(valores, desconhecido):\n",
    "    k = 1\n",
    "    for valor in valores:\n",
    "        k *= valor\n",
    "    \n",
    "    valores_str = '\\\\times '.join(map(str, valores))\n",
    "    display(Math(rf\"\\text{{Regra de Três Composta:}}\"))\n",
    "    display(Math(rf\"x \\times {desconhecido} = {valores_str}\"))\n",
    "    resultado = k / desconhecido\n",
    "    display(Math(rf\"x = \\frac{{{valores_str}}}{{{desconhecido}}}\"))\n",
    "    display(Math(rf\"x = {resultado}\"))\n",
    "\n",
    "# Solicitar dados do usuário para Razão\n",
    "print(\"Vamos calcular a razão entre dois números.\")\n",
    "a = float(input(\"Digite o valor do antecedente da razão (a): \"))\n",
    "b = float(input(\"Digite o valor do consequente da razão (b): \"))\n",
    "\n",
    "# Calcular e mostrar a razão\n",
    "print(\"Razão:\")\n",
    "calcular_razao(a, b)\n",
    "\n",
    "# Solicitar dados do usuário para Proporção\n",
    "print(\"\\nVamos verificar se duas proporções são iguais.\")\n",
    "c = float(input(\"Digite o valor do terceiro termo da proporção (c): \"))\n",
    "d = float(input(\"Digite o valor do quarto termo da proporção (d): \"))\n",
    "\n",
    "# Calcular e mostrar a proporção\n",
    "print(\"Proporção:\")\n",
    "calcular_proporcao(a, b, c, d)\n",
    "\n",
    "# Solicitar dados do usuário para Regra de Três Simples\n",
    "print(\"\\nVamos resolver um problema de Regra de Três Simples.\")\n",
    "print(\"Você precisará inserir três valores: a, b, e c. O programa calculará o valor desconhecido x na proporção a:b = c:x.\")\n",
    "a_r3 = float(input(\"Digite o valor de a (primeiro termo da proporção): \"))\n",
    "b_r3 = float(input(\"Digite o valor de b (segundo termo da proporção): \"))\n",
    "c_r3 = float(input(\"Digite o valor de c (terceiro termo da proporção): \"))\n",
    "\n",
    "# Calcular e mostrar a regra de três simples\n",
    "regra_de_tres_simples(a_r3, b_r3, c_r3)\n",
    "\n",
    "# Solicitar dados do usuário para Regra de Três Composta\n",
    "print(\"\\nAgora, vamos resolver um problema de Regra de Três Composta.\")\n",
    "print(\"Você precisará inserir os valores das grandezas conhecidas e, em seguida, o valor da grandeza desconhecida.\")\n",
    "n = int(input(\"Digite o número de grandezas envolvidas: \"))\n",
    "valores = []\n",
    "for i in range(n):\n",
    "    valor = float(input(f\"Digite o valor da grandeza conhecida {i+1}: \"))\n",
    "    valores.append(valor)\n",
    "\n",
    "desconhecido = float(input(\"Digite o valor da grandeza desconhecida: \"))\n",
    "\n",
    "# Calcular e mostrar a regra de três composta\n",
    "regra_de_tres_composta(valores, desconhecido)\n"
   ]
  }
 ],
 "metadata": {
  "kernelspec": {
   "display_name": "Python 3",
   "language": "python",
   "name": "python3"
  },
  "language_info": {
   "codemirror_mode": {
    "name": "ipython",
    "version": 3
   },
   "file_extension": ".py",
   "mimetype": "text/x-python",
   "name": "python",
   "nbconvert_exporter": "python",
   "pygments_lexer": "ipython3",
   "version": "3.12.4"
  }
 },
 "nbformat": 4,
 "nbformat_minor": 2
}
