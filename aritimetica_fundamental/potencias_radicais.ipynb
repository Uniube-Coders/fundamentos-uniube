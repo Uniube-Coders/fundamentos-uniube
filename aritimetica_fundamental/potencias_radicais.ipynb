{
 "cells": [
  {
   "cell_type": "markdown",
   "metadata": {},
   "source": [
    "## 📚 Potenciação e Radicais"
   ]
  },
  {
   "cell_type": "markdown",
   "metadata": {},
   "source": [
    "### **1. Potenciação**\n",
    "\n",
    "[Clique aqui para ver o vídeo 🎬🎥🔴▶](https://www.youtube.com/watch?v=EqSiqXyfaqA&list=PLGyv8aUrOlzAyZObugwsCTi4u9O2UaoPz)\n",
    "\n",
    "**Conceito de Potenciação:**\n",
    "- **Potenciação** é uma operação matemática que envolve multiplicar um número, conhecido como **base**, por ele mesmo várias vezes, conforme determinado por um **expoente**. \n",
    "- **Base (b):** O número que será multiplicado.\n",
    "- **Expoente (n):** Indica quantas vezes a base será multiplicada por si mesma.\n",
    "- A potenciação é representada como $ b^n $, onde:\n",
    "  - $ b $ é a base.\n",
    "  - $ n $ é o expoente.\n",
    "  \n",
    "**Exemplos de Potenciação:**\n",
    "- $ 2^3 = 2 \\times 2 \\times 2 = 8 $\n",
    "- $ 5^4 = 5 \\times 5 \\times 5 \\times 5 = 625 $\n",
    "- $ 10^2 = 10 \\times 10 = 100 $\n",
    "\n",
    "**Casos Especiais de Potenciação:**\n",
    "- **Qualquer número elevado a 1:** $ b^1 = b $. Exemplo: $ 7^1 = 7 $.\n",
    "- **Qualquer número elevado a 0:** $ b^0 = 1 $, desde que $ b \\neq 0 $. Exemplo: $ 5^0 = 1 $.\n",
    "- **Potenciação com expoente negativo:** $ b^{-n} = \\frac{1}{b^n} $. Exemplo: $ 2^{-3} = \\frac{1}{2^3} = \\frac{1}{8} $.\n",
    "- **Potenciação com expoente fracionário:** $ b^{\\frac{m}{n}} = \\sqrt[n]{b^m} $. Exemplo: $ 8^{\\frac{2}{3}} = \\sqrt[3]{8^2} = \\sqrt[3]{64} = 4 $.\n",
    "\n",
    "**Propriedades da Potenciação:**\n",
    "- **Multiplicação de Potências com a Mesma Base:** $ b^m \\times b^n = b^{m+n} $. Exemplo: $ 2^3 \\times 2^2 = 2^{3+2} = 2^5 = 32 $.\n",
    "- **Divisão de Potências com a Mesma Base:** $ \\frac{b^m}{b^n} = b^{m-n} $, onde $ m > n $. Exemplo: $ \\frac{5^4}{5^2} = 5^{4-2} = 5^2 = 25 $.\n",
    "- **Potência de uma Potência:** $ (b^m)^n = b^{m \\times n} $. Exemplo: $ (3^2)^3 = 3^{2 \\times 3} = 3^6 = 729 $.\n",
    "- **Produto de Potências com o Mesmo Expoente:** $ a^n \\times b^n = (a \\times b)^n $. Exemplo: $ 2^3 \\times 3^3 = (2 \\times 3)^3 = 6^3 = 216 $.\n",
    "\n",
    "**Aplicações da Potenciação:**\n",
    "- A potenciação é amplamente utilizada em várias áreas da matemática e ciências, como em cálculos de crescimento exponencial, juros compostos, e fórmulas físicas envolvendo a distância, energia e outras grandezas.\n",
    "---"
   ]
  },
  {
   "cell_type": "code",
   "execution_count": 2,
   "metadata": {},
   "outputs": [
    {
     "name": "stdout",
     "output_type": "stream",
     "text": [
      "Resultado da Potenciação:\n"
     ]
    },
    {
     "data": {
      "text/latex": [
       "$\\displaystyle 4.0^{3.0} = 64.0$"
      ],
      "text/plain": [
       "<IPython.core.display.Math object>"
      ]
     },
     "metadata": {},
     "output_type": "display_data"
    },
    {
     "name": "stdout",
     "output_type": "stream",
     "text": [
      "Casos Especiais de Potenciação:\n"
     ]
    },
    {
     "data": {
      "text/latex": [
       "$\\displaystyle 4.0^{1} = 4.0$"
      ],
      "text/plain": [
       "<IPython.core.display.Math object>"
      ]
     },
     "metadata": {},
     "output_type": "display_data"
    },
    {
     "data": {
      "text/latex": [
       "$\\displaystyle 4.0^{0} = 1.0$"
      ],
      "text/plain": [
       "<IPython.core.display.Math object>"
      ]
     },
     "metadata": {},
     "output_type": "display_data"
    },
    {
     "name": "stdout",
     "output_type": "stream",
     "text": [
      "Propriedades da Potenciação:\n"
     ]
    },
    {
     "data": {
      "text/latex": [
       "$\\displaystyle 4.0^3.0 \\times 4.0^6.0 = 4160.0$"
      ],
      "text/plain": [
       "<IPython.core.display.Math object>"
      ]
     },
     "metadata": {},
     "output_type": "display_data"
    },
    {
     "data": {
      "text/latex": [
       "$\\displaystyle \\frac{4.0^3.0}{4.0^6.0} = 0.015625$"
      ],
      "text/plain": [
       "<IPython.core.display.Math object>"
      ]
     },
     "metadata": {},
     "output_type": "display_data"
    },
    {
     "data": {
      "text/latex": [
       "$\\displaystyle (4.0^3.0)^6.0 = 68719476736.0$"
      ],
      "text/plain": [
       "<IPython.core.display.Math object>"
      ]
     },
     "metadata": {},
     "output_type": "display_data"
    },
    {
     "data": {
      "text/latex": [
       "$\\displaystyle 4.0^3.0 \\times 4.0^3.0 = (4.0 \\times 4.0)^3.0 = 4096.0$"
      ],
      "text/plain": [
       "<IPython.core.display.Math object>"
      ]
     },
     "metadata": {},
     "output_type": "display_data"
    }
   ],
   "source": [
    "# Aplicando potenciação na programação:\n",
    "\n",
    "from IPython.display import display, Math\n",
    "\n",
    "# Função para calcular a potenciação\n",
    "def potenciacao(base, expoente):\n",
    "    resultado = base ** expoente\n",
    "    display(Math(rf\"{base}^{{{expoente}}} = {resultado}\"))\n",
    "    return resultado\n",
    "\n",
    "# Solicitar os valores do usuário\n",
    "base = float(input(\"Digite a base: \"))\n",
    "expoente = float(input(\"Digite o expoente: \"))\n",
    "\n",
    "# Realizar a potenciação\n",
    "print(\"Resultado da Potenciação:\")\n",
    "potenciacao(base, expoente)\n",
    "\n",
    "# Casos especiais\n",
    "print(\"Casos Especiais de Potenciação:\")\n",
    "\n",
    "# Base elevada a 1\n",
    "potenciacao(base, 1)\n",
    "\n",
    "# Base elevada a 0\n",
    "if base != 0:\n",
    "    potenciacao(base, 0)\n",
    "else:\n",
    "    display(Math(r\"0^0 \\text{ é indefinido}\"))\n",
    "\n",
    "# Potenciação com expoente negativo\n",
    "if expoente < 0:\n",
    "    potenciacao(base, expoente)\n",
    "\n",
    "# Potenciação com expoente fracionário (exemplo: 8^(2/3))\n",
    "if expoente != int(expoente):  # Exemplo genérico de fracionário\n",
    "    m, n = 2, 3  # Exemplo específico: m/n = 2/3\n",
    "    fracionario_resultado = base ** (m / n)\n",
    "    display(Math(rf\"{base}^{{\\frac{{{m}}}{{{n}}}}} = {fracionario_resultado}\"))\n",
    "\n",
    "# Propriedades da Potenciação\n",
    "print(\"Propriedades da Potenciação:\")\n",
    "\n",
    "# Multiplicação de potências com a mesma base\n",
    "base2 = float(input(\"Digite outra base para multiplicação com a mesma base: \"))\n",
    "expoente2 = float(input(\"Digite o expoente para multiplicação: \"))\n",
    "multiplicacao_resultado = base ** expoente + base2 ** expoente2\n",
    "display(Math(rf\"{base}^{expoente} \\times {base2}^{expoente2} = {multiplicacao_resultado}\"))\n",
    "\n",
    "# Divisão de potências com a mesma base\n",
    "divisao_resultado = base ** expoente / base2 ** expoente2\n",
    "display(Math(rf\"\\frac{{{base}^{expoente}}}{{{base2}^{expoente2}}} = {divisao_resultado}\"))\n",
    "\n",
    "# Potência de uma potência\n",
    "potencia_potencia_resultado = (base ** expoente) ** expoente2\n",
    "display(Math(rf\"({base}^{expoente})^{expoente2} = {potencia_potencia_resultado}\"))\n",
    "\n",
    "# Produto de potências com o mesmo expoente\n",
    "produto_potencias_resultado = (base * base2) ** expoente\n",
    "display(Math(rf\"{base}^{expoente} \\times {base2}^{expoente} = ({base} \\times {base2})^{expoente} = {produto_potencias_resultado}\"))\n"
   ]
  },
  {
   "cell_type": "markdown",
   "metadata": {},
   "source": [
    "### **2. Radicais**\n",
    "\n",
    "[Clique aqui para ver o vídeo 🎬🎥🔴▶](https://www.youtube.com/watch?v=i7bCpeTMgTU&list=PLGyv8aUrOlzDML5gjP0h1hX2wlHDWhe-D)\n",
    "\n",
    "**Conceito de Radicais:**\n",
    "- Um **radical** é a operação inversa da potenciação. Envolve encontrar um número que, quando elevado a uma potência específica, resulta na base original.\n",
    "- **Radical:** Indicado pelo símbolo $ \\sqrt{} $ (ou $ \\sqrt[n]{} $ para raízes de ordem superior).\n",
    "- **Índice (n):** O índice do radical indica a raiz que está sendo extraída. Se não houver índice especificado, assume-se que o índice é 2 (raiz quadrada).\n",
    "- **Radicando (a):** O número sob o símbolo de raiz, que será extraído.\n",
    "\n",
    "**Exemplos de Radicais:**\n",
    "- Raiz Quadrada: $ \\sqrt{9} = 3 $, porque $ 3^2 = 9 $.\n",
    "- Raiz Cúbica: $ \\sqrt[3]{27} = 3 $, porque $ 3^3 = 27 $.\n",
    "- Raiz Quarta: $ \\sqrt[4]{16} = 2 $, porque $ 2^4 = 16 $.\n",
    "\n",
    "**Propriedades dos Radicais:**\n",
    "- **Multiplicação de Radicais com o Mesmo Índice:** $ \\sqrt[n]{a} \\times \\sqrt[n]{b} = \\sqrt[n]{a \\times b} $. Exemplo: $ \\sqrt{2} \\times \\sqrt{8} = \\sqrt{16} = 4 $.\n",
    "- **Divisão de Radicais com o Mesmo Índice:** $ \\frac{\\sqrt[n]{a}}{\\sqrt[n]{b}} = \\sqrt[n]{\\frac{a}{b}} $. Exemplo: $ \\frac{\\sqrt{18}}{\\sqrt{2}} = \\sqrt{\\frac{18}{2}} = \\sqrt{9} = 3 $.\n",
    "- **Potência de um Radical:** $ (\\sqrt[n]{a})^m = \\sqrt[n]{a^m} $. Exemplo: $ (\\sqrt{2})^3 = \\sqrt{8} = 2\\sqrt{2} $.\n",
    "\n",
    "**Simplificação de Radicais:**\n",
    "- Simplificar um radical envolve expressá-lo na forma mais simples possível. Por exemplo, $ \\sqrt{50} $ pode ser simplificado para $ 5\\sqrt{2} $ porque $ 50 = 25 \\times 2 $ e $ \\sqrt{25} = 5 $.\n",
    "- **Desenvolvimento de Radicais:** Algumas vezes, o radicando pode ser fatorado para permitir simplificação. Exemplo: $ \\sqrt{72} = \\sqrt{36 \\times 2} = 6\\sqrt{2} $.\n",
    "\n",
    "**Radicais Irracionais:**\n",
    "- Um radical é considerado irracional quando não pode ser expresso como uma fração de dois inteiros. Exemplo: $ \\sqrt{2} $ é irracional, pois não há dois números inteiros cuja razão ao quadrado seja igual a 2.\n",
    "\n",
    "**Operações com Radicais:**\n",
    "- **Adição e Subtração:** Podem ser realizadas apenas com radicais semelhantes (com o mesmo índice e radicando). Exemplo: $ 2\\sqrt{3} + 4\\sqrt{3} = 6\\sqrt{3} $.\n",
    "- **Multiplicação e Divisão:** Podem ser realizadas normalmente, utilizando as propriedades dos radicais. Exemplo: $ \\sqrt{2} \\times \\sqrt{8} = \\sqrt{16} = 4 $.\n",
    "\n",
    "**Racionalização de Denominadores:**\n",
    "- Envolve a eliminação de radicais do denominador de uma fração, multiplicando o numerador e o denominador pelo conjugado ou por um radical que torne o denominador um número racional. Exemplo: $ \\frac{1}{\\sqrt{2}} $ é racionalizado como $ \\frac{1 \\times \\sqrt{2}}{\\sqrt{2} \\times \\sqrt{2}} = \\frac{\\sqrt{2}}{2} $.\n",
    "\n",
    "**Aplicações dos Radicais:**\n",
    "- Os radicais são amplamente usados em geometria, álgebra, e ciências para calcular distâncias, resolver equações quadráticas, e em operações envolvendo áreas e volumes de figuras geométricas.\n",
    "---"
   ]
  },
  {
   "cell_type": "code",
   "execution_count": 3,
   "metadata": {},
   "outputs": [
    {
     "name": "stdout",
     "output_type": "stream",
     "text": [
      "Vamos realizar operações com radicais.\n",
      "Escolha a operação que deseja realizar:\n",
      "1 - Raiz Quadrada\n",
      "2 - Raiz Cúbica\n",
      "3 - Raiz de Ordem n\n",
      "4 - Simplificar Radical\n",
      "5 - Multiplicação de Radicais com o Mesmo Índice\n",
      "6 - Divisão de Radicais com o Mesmo Índice\n",
      "7 - Racionalizar Denominador\n"
     ]
    },
    {
     "data": {
      "text/latex": [
       "$\\displaystyle \\sqrt[3]{54} \\times \\sqrt[3]{53} = \\sqrt[3]{2862} = 3*106**(1/3)$"
      ],
      "text/plain": [
       "<IPython.core.display.Math object>"
      ]
     },
     "metadata": {},
     "output_type": "display_data"
    }
   ],
   "source": [
    "from IPython.display import display, Math\n",
    "import sympy as sp\n",
    "\n",
    "# Função para calcular a raiz quadrada\n",
    "def raiz_quadrada(a):\n",
    "    raiz = sp.sqrt(a)\n",
    "    display(Math(rf\"\\sqrt{{{a}}} = {raiz}\"))\n",
    "    return raiz\n",
    " \n",
    "\n",
    "# Função para calcular a raiz cúbica\n",
    "def raiz_cubica(a):\n",
    "    raiz = sp.root(a, 3)\n",
    "    display(Math(rf\"\\sqrt[3]{{{a}}} = {raiz}\"))\n",
    "    return raiz\n",
    "\n",
    "# Função para calcular a raiz de ordem n\n",
    "def raiz_n(a, n):\n",
    "    raiz = sp.root(a, n)\n",
    "    display(Math(rf\"\\sqrt[{n}]{{{a}}} = {raiz}\"))\n",
    "    return raiz\n",
    "\n",
    "# Função para simplificar um radical\n",
    "def simplificar_radical(a):\n",
    "    simplificado = sp.sqrt(a).simplify()\n",
    "    display(Math(rf\"\\sqrt{{{a}}} = {simplificado}\"))\n",
    "    return simplificado\n",
    "\n",
    "# Função para multiplicar dois radicais com o mesmo índice\n",
    "def multiplicar_radicais(a, b, n):\n",
    "    resultado = sp.root(a, n) * sp.root(b, n)\n",
    "    display(Math(rf\"\\sqrt[{n}]{{{a}}} \\times \\sqrt[{n}]{{{b}}} = \\sqrt[{n}]{{{a * b}}} = {resultado}\"))\n",
    "    return resultado\n",
    "\n",
    "# Função para dividir dois radicais com o mesmo índice\n",
    "def dividir_radicais(a, b, n):\n",
    "    resultado = sp.root(a, n) / sp.root(b, n)\n",
    "    display(Math(rf\"\\frac{{\\sqrt[{n}]{{{a}}}}}{{\\sqrt[{n}]{{{b}}}}} = \\sqrt[{n}]{{\\frac{{{a}}}{{{b}}}}} = {resultado}\"))\n",
    "    return resultado\n",
    "\n",
    "# Função para realizar a racionalização de um denominador\n",
    "def racionalizar_denominador(a, b):\n",
    "    resultado = sp.simplify(a / sp.sqrt(b))\n",
    "    display(Math(rf\"\\frac{{{a}}}{{\\sqrt{{{b}}}}} = {resultado}\"))\n",
    "    return resultado\n",
    "\n",
    "# Solicitar dados do usuário\n",
    "print(\"Vamos realizar operações com radicais.\")\n",
    "\n",
    "# Escolha da operação\n",
    "print(\"Escolha a operação que deseja realizar:\")\n",
    "print(\"1 - Raiz Quadrada\")\n",
    "print(\"2 - Raiz Cúbica\")\n",
    "print(\"3 - Raiz de Ordem n\")\n",
    "print(\"4 - Simplificar Radical\")\n",
    "print(\"5 - Multiplicação de Radicais com o Mesmo Índice\")\n",
    "print(\"6 - Divisão de Radicais com o Mesmo Índice\")\n",
    "print(\"7 - Racionalizar Denominador\")\n",
    "opcao = int(input(\"Digite o número da operação desejada: \"))\n",
    "\n",
    "if opcao == 1:\n",
    "    a = int(input(\"Digite o radicando (a): \"))\n",
    "    raiz_quadrada(a)\n",
    "elif opcao == 2:\n",
    "    a = int(input(\"Digite o radicando (a): \"))\n",
    "    raiz_cubica(a)\n",
    "elif opcao == 3:\n",
    "    a = int(input(\"Digite o radicando (a): \"))\n",
    "    n = int(input(\"Digite o índice (n): \"))\n",
    "    raiz_n(a, n)\n",
    "elif opcao == 4:\n",
    "    a = int(input(\"Digite o radicando (a): \"))\n",
    "    simplificar_radical(a)\n",
    "elif opcao == 5:\n",
    "    a = int(input(\"Digite o primeiro radicando (a): \"))\n",
    "    b = int(input(\"Digite o segundo radicando (b): \"))\n",
    "    n = int(input(\"Digite o índice comum (n): \"))\n",
    "    multiplicar_radicais(a, b, n)\n",
    "elif opcao == 6:\n",
    "    a = int(input(\"Digite o primeiro radicando (a): \"))\n",
    "    b = int(input(\"Digite o segundo radicando (b): \"))\n",
    "    n = int(input(\"Digite o índice comum (n): \"))\n",
    "    dividir_radicais(a, b, n)\n",
    "elif opcao == 7:\n",
    "    a = int(input(\"Digite o numerador (a): \"))\n",
    "    b = int(input(\"Digite o radicando no denominador (b): \"))\n",
    "    racionalizar_denominador(a, b)\n",
    "else:\n",
    "    print(\"Opção inválida.\")\n"
   ]
  }
 ],
 "metadata": {
  "kernelspec": {
   "display_name": "Python 3",
   "language": "python",
   "name": "python3"
  },
  "language_info": {
   "codemirror_mode": {
    "name": "ipython",
    "version": 3
   },
   "file_extension": ".py",
   "mimetype": "text/x-python",
   "name": "python",
   "nbconvert_exporter": "python",
   "pygments_lexer": "ipython3",
   "version": "3.12.4"
  }
 },
 "nbformat": 4,
 "nbformat_minor": 2
}
