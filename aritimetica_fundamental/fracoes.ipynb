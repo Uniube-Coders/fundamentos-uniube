{
 "cells": [
  {
   "cell_type": "markdown",
   "metadata": {},
   "source": [
    "### Frações e Operações Relacionadas"
   ]
  },
  {
   "cell_type": "markdown",
   "metadata": {},
   "source": [
    "#### 1. **Frações - Parte 1: Introdução ao Conceito de Frações, Representação e Operações Básicas**\n",
    "\n",
    "**Conceito de Frações:**\n",
    "- Uma fração é uma maneira de representar uma parte de um todo. Ela é composta por dois números: o numerador (parte superior) e o denominador (parte inferior). \n",
    "- **Numerador:** Indica quantas partes do todo estamos considerando.\n",
    "- **Denominador:** Indica em quantas partes iguais o todo foi dividido.\n",
    "\n",
    "**Representação de Frações:**\n",
    "- **Fração Própria:** O numerador é menor que o denominador, por exemplo, $$ \\frac{3}{4} $$.\n",
    "- **Fração Imprópria:** O numerador é maior ou igual ao denominador, por exemplo, $$ \\frac{5}{3} $$.\n",
    "- **Número Misto:** Combinação de um número inteiro e uma fração, por exemplo, $$ 2 \\frac{1}{2} $$.\n",
    "\n",
    "**Operações Básicas com Frações:**\n",
    "- **Adição e Subtração de Frações com o Mesmo Denominador:** Adiciona-se ou subtrai-se os numeradores, mantendo o denominador. Exemplo: $$ \\frac{2}{5} + \\frac{1}{5} = \\frac{3}{5} $$.\n",
    "- **Adição e Subtração de Frações com Diferentes Denominadores:** Encontra-se o mínimo múltiplo comum (MMC) dos denominadores para igualá-los, e em seguida, realiza-se a adição ou subtração. Exemplo: $$ \\frac{1}{4} + \\frac{1}{6} = \\frac{3}{12} + \\frac{2}{12} = \\frac{5}{12} $$.\n",
    "- **Multiplicação de Frações:** Multiplica-se os numeradores entre si e os denominadores entre si. Exemplo: $$ \\frac{2}{3} \\times \\frac{4}{5} = \\frac{8}{15} $$.\n",
    "- **Divisão de Frações:** Multiplica-se a primeira fração pelo inverso da segunda fração. Exemplo: $$ \\frac{2}{3} \\div \\frac{4}{5} = \\frac{2}{3} \\times \\frac{5}{4} = \\frac{10}{12} = \\frac{5}{6} $$.\n",
    "\n",
    "#### 2. **Frações - Parte 2: Simplificação e Operações Mais Complexas**\n",
    "\n",
    "**Simplificação de Frações:**\n",
    "- Simplificar uma fração é o processo de dividir o numerador e o denominador pelo maior divisor comum (MDC) para expressar a fração em sua forma mais simples. Exemplo: $$ \\frac{8}{12} $$ simplificado é $$ \\frac{2}{3} $$ (dividindo ambos por 4).\n",
    "  \n",
    "**Operações com Frações em Expressões Mais Complexas:**\n",
    "- **Operações Combinadas:** Combinação de adição, subtração, multiplicação e divisão em uma única expressão. Exemplo: $$ \\frac{3}{4} + \\frac{2}{3} \\times \\frac{5}{6} $$.\n",
    "- **Frações em Equações:** Manipulação de frações em ambos os lados de uma equação para resolver para a variável. Exemplo: Resolver $$ \\frac{x}{3} = \\frac{4}{9} $$.\n",
    "- **Conversão de Frações Impróprias em Números Mistos e Vice-Versa:** Transformar uma fração imprópria em um número misto e vice-versa para simplificar a compreensão. Exemplo: $$ \\frac{7}{4} = 1 \\frac{3}{4} $$.\n",
    "\n",
    "#### 3. **Expressões Numéricas: Resolução de Expressões Numéricas que Combinam Várias Operações, Incluindo Frações**\n",
    "\n",
    "**Expressões Numéricas:**\n",
    "- Uma expressão numérica é uma combinação de números e operações (adição, subtração, multiplicação, divisão) que devem ser resolvidas seguindo uma ordem específica, conhecida como ordem das operações ou PEMDAS (Parênteses, Expoentes, Multiplicação e Divisão, Adição e Subtração).\n",
    "\n",
    "**Resolução de Expressões com Frações:**\n",
    "- **Aplicação da Ordem das Operações:** Ao resolver expressões com frações, é importante seguir a ordem das operações. Por exemplo, em uma expressão como $$ \\frac{3}{4} + \\frac{2}{3} \\times \\frac{1}{2} $$, resolve-se a multiplicação primeiro, depois a adição: $$ \\frac{3}{4} + \\frac{2}{6} = \\frac{3}{4} + \\frac{1}{3} $$.\n",
    "- **Uso de Parênteses:** Os parênteses indicam quais operações devem ser realizadas primeiro. Exemplo: $$ \\frac{3}{4} \\times (\\frac{2}{3} + \\frac{1}{2}) $$.\n",
    "- **Combinação de Diferentes Operações:** Expressões podem combinar adição, subtração, multiplicação e divisão, exigindo uma análise cuidadosa para garantir que cada passo seja realizado corretamente.\n",
    "\n",
    "**Simplificação Final:**\n",
    "- Depois de resolver a expressão, pode ser necessário simplificar o resultado final, especialmente se o resultado for uma fração que pode ser reduzida."
   ]
  },
  {
   "cell_type": "code",
   "execution_count": 3,
   "metadata": {},
   "outputs": [
    {
     "name": "stdout",
     "output_type": "stream",
     "text": [
      "Frações - Parte 1: Operações Básicas\n"
     ]
    },
    {
     "data": {
      "text/latex": [
       "$\\displaystyle \\frac{2}{5} + \\frac{1}{5} = \\frac{3}{5}$"
      ],
      "text/plain": [
       "<IPython.core.display.Math object>"
      ]
     },
     "metadata": {},
     "output_type": "display_data"
    },
    {
     "data": {
      "text/latex": [
       "$\\displaystyle \\frac{1}{4} + \\frac{1}{6} = \\frac{5}{12}$"
      ],
      "text/plain": [
       "<IPython.core.display.Math object>"
      ]
     },
     "metadata": {},
     "output_type": "display_data"
    },
    {
     "data": {
      "text/latex": [
       "$\\displaystyle \\frac{2}{3} \\times \\frac{4}{5} = \\frac{8}{15}$"
      ],
      "text/plain": [
       "<IPython.core.display.Math object>"
      ]
     },
     "metadata": {},
     "output_type": "display_data"
    },
    {
     "data": {
      "text/latex": [
       "$\\displaystyle \\frac{2}{3} \\div \\frac{4}{5} = \\frac{5}{6}$"
      ],
      "text/plain": [
       "<IPython.core.display.Math object>"
      ]
     },
     "metadata": {},
     "output_type": "display_data"
    },
    {
     "name": "stdout",
     "output_type": "stream",
     "text": [
      "\n",
      "Frações - Parte 2: Simplificação e Operações Mais Complexas\n"
     ]
    },
    {
     "data": {
      "text/latex": [
       "$\\displaystyle \\frac{8}{12} = \\frac{2}{3}$"
      ],
      "text/plain": [
       "<IPython.core.display.Math object>"
      ]
     },
     "metadata": {},
     "output_type": "display_data"
    },
    {
     "data": {
      "text/latex": [
       "$\\displaystyle \\frac{3}{4} + \\left(\\frac{2}{3} \\times \\frac{5}{6}\\right) = \\frac{47}{36}$"
      ],
      "text/plain": [
       "<IPython.core.display.Math object>"
      ]
     },
     "metadata": {},
     "output_type": "display_data"
    },
    {
     "data": {
      "text/latex": [
       "$\\displaystyle \\frac{7}{4} = 1 \\frac{3}{4}$"
      ],
      "text/plain": [
       "<IPython.core.display.Math object>"
      ]
     },
     "metadata": {},
     "output_type": "display_data"
    },
    {
     "name": "stdout",
     "output_type": "stream",
     "text": [
      "\n",
      "Expressões Numéricas: Resolução de Expressões\n"
     ]
    },
    {
     "data": {
      "text/latex": [
       "$\\displaystyle \\frac{3}{4} + \\frac{2}{3} \\times \\frac{1}{2} = \\frac{13}{12}$"
      ],
      "text/plain": [
       "<IPython.core.display.Math object>"
      ]
     },
     "metadata": {},
     "output_type": "display_data"
    },
    {
     "data": {
      "text/latex": [
       "$\\displaystyle \\frac{3}{4} \\times \\left(\\frac{2}{3} + \\frac{1}{2}\\right) = \\frac{7}{8}$"
      ],
      "text/plain": [
       "<IPython.core.display.Math object>"
      ]
     },
     "metadata": {},
     "output_type": "display_data"
    }
   ],
   "source": [
    "from fractions import Fraction\n",
    "from IPython.display import display, Math\n",
    "\n",
    "# Frações - Parte 1: Operações Básicas com Frações\n",
    "def operacoes_basicas():\n",
    "    frac1 = Fraction(2, 5)\n",
    "    frac2 = Fraction(1, 5)\n",
    "    adicao = frac1 + frac2\n",
    "    display(Math(rf\"\\frac{{{frac1.numerator}}}{{{frac1.denominator}}} + \\frac{{{frac2.numerator}}}{{{frac2.denominator}}} = \\frac{{{adicao.numerator}}}{{{adicao.denominator}}}\"))\n",
    "\n",
    "    frac3 = Fraction(1, 4)\n",
    "    frac4 = Fraction(1, 6)\n",
    "    adicao_dif = frac3 + frac4\n",
    "    display(Math(rf\"\\frac{{{frac3.numerator}}}{{{frac3.denominator}}} + \\frac{{{frac4.numerator}}}{{{frac4.denominator}}} = \\frac{{{adicao_dif.numerator}}}{{{adicao_dif.denominator}}}\"))\n",
    "\n",
    "    frac5 = Fraction(2, 3)\n",
    "    frac6 = Fraction(4, 5)\n",
    "    multiplicacao = frac5 * frac6\n",
    "    display(Math(rf\"\\frac{{{frac5.numerator}}}{{{frac5.denominator}}} \\times \\frac{{{frac6.numerator}}}{{{frac6.denominator}}} = \\frac{{{multiplicacao.numerator}}}{{{multiplicacao.denominator}}}\"))\n",
    "\n",
    "    divisao = frac5 / frac6\n",
    "    display(Math(rf\"\\frac{{{frac5.numerator}}}{{{frac5.denominator}}} \\div \\frac{{{frac6.numerator}}}{{{frac6.denominator}}} = \\frac{{{divisao.numerator}}}{{{divisao.denominator}}}\"))\n",
    "\n",
    "# Frações - Parte 2: Simplificação de Frações e Operações Mais Complexas\n",
    "def simplificacao_operacoes_complexas():\n",
    "    frac7 = Fraction(8, 12)\n",
    "    simplificado = frac7\n",
    "    display(Math(rf\"\\frac{{8}}{{12}} = \\frac{{{simplificado.numerator}}}{{{simplificado.denominator}}}\"))\n",
    "\n",
    "    frac8 = Fraction(3, 4)\n",
    "    frac9 = Fraction(2, 3)\n",
    "    frac10 = Fraction(5, 6)\n",
    "    operacao_combinada = frac8 + (frac9 * frac10)\n",
    "    display(Math(rf\"\\frac{{{frac8.numerator}}}{{{frac8.denominator}}} + \\left(\\frac{{{frac9.numerator}}}{{{frac9.denominator}}} \\times \\frac{{{frac10.numerator}}}{{{frac10.denominator}}}\\right) = \\frac{{{operacao_combinada.numerator}}}{{{operacao_combinada.denominator}}}\"))\n",
    "\n",
    "    frac11 = Fraction(7, 4)\n",
    "    numero_misto = divmod(frac11.numerator, frac11.denominator)\n",
    "    display(Math(rf\"\\frac{{7}}{{4}} = {numero_misto[0]} \\frac{{{numero_misto[1]}}}{{{frac11.denominator}}}\"))\n",
    "\n",
    "# Expressões Numéricas: Resolução de Expressões que Combinam Várias Operações\n",
    "def resolver_expressao_numerica():\n",
    "    frac12 = Fraction(3, 4)\n",
    "    frac13 = Fraction(2, 3)\n",
    "    frac14 = Fraction(1, 2)\n",
    "    expressao = frac12 + frac13 * frac14\n",
    "    display(Math(rf\"\\frac{{{frac12.numerator}}}{{{frac12.denominator}}} + \\frac{{{frac13.numerator}}}{{{frac13.denominator}}} \\times \\frac{{{frac14.numerator}}}{{{frac14.denominator}}} = \\frac{{{expressao.numerator}}}{{{expressao.denominator}}}\"))\n",
    "\n",
    "    expressao_com_parenteses = frac12 * (frac13 + frac14)\n",
    "    display(Math(rf\"\\frac{{{frac12.numerator}}}{{{frac12.denominator}}} \\times \\left(\\frac{{{frac13.numerator}}}{{{frac13.denominator}}} + \\frac{{{frac14.numerator}}}{{{frac14.denominator}}}\\right) = \\frac{{{expressao_com_parenteses.numerator}}}{{{expressao_com_parenteses.denominator}}}\"))\n",
    "\n",
    "# Função principal\n",
    "if __name__ == \"__main__\":\n",
    "    print(\"Frações - Parte 1: Operações Básicas\")\n",
    "    operacoes_basicas()\n",
    "    print(\"\\nFrações - Parte 2: Simplificação e Operações Mais Complexas\")\n",
    "    simplificacao_operacoes_complexas()\n",
    "    print(\"\\nExpressões Numéricas: Resolução de Expressões\")\n",
    "    resolver_expressao_numerica()\n"
   ]
  }
 ],
 "metadata": {
  "kernelspec": {
   "display_name": "Python 3",
   "language": "python",
   "name": "python3"
  },
  "language_info": {
   "codemirror_mode": {
    "name": "ipython",
    "version": 3
   },
   "file_extension": ".py",
   "mimetype": "text/x-python",
   "name": "python",
   "nbconvert_exporter": "python",
   "pygments_lexer": "ipython3",
   "version": "3.12.4"
  }
 },
 "nbformat": 4,
 "nbformat_minor": 2
}
