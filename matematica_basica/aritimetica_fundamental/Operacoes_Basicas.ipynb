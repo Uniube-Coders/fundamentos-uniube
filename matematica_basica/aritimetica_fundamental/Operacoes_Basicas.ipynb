{
 "cells": [
  {
   "cell_type": "markdown",
   "metadata": {},
   "source": [
    "# Aritimética Fundamental"
   ]
  },
  {
   "cell_type": "markdown",
   "metadata": {},
   "source": [
    "### Fundamentos das Operações Básicas: Explicação Matemática Detalhada\n",
    "\n",
    "[Clique aqui para ver o vídeo 🎬🎥🔴▶](https://www.youtube.com/watch?v=k2PbBawEV_0)\n",
    "\n",
    "Os fundamentos das operações básicas são essenciais para a compreensão da matemática e envolvem as quatro operações principais: adição, subtração, multiplicação e divisão. Cada uma dessas operações tem propriedades específicas e pode ser representada de diferentes maneiras, tanto no contexto aritmético quanto algébrico. Abaixo, vamos explorar cada uma dessas operações de forma detalhada.\n",
    "\n",
    "---\n",
    "\n",
    "#### 1. **Adição**\n",
    "A adição é a operação de combinar dois ou mais números para obter uma soma. Matemática e simbolicamente, a adição é representada pelo símbolo $+$.\n",
    "\n",
    "**Propriedades da Adição:**\n",
    "- **Comutatividade:** $a + b = b + a$\n",
    "  - Exemplo: $3 + 5 = 5 + 3 = 8$\n",
    "- **Associatividade:** $(a + b) + c = a + (b + c)$\n",
    "  - Exemplo: $(2 + 3) + 4 = 2 + (3 + 4) = 9$\n",
    "- **Elemento Neutro:** O número $0$ é o elemento neutro da adição, pois $a + 0 = a$.\n",
    "  - Exemplo: $7 + 0 = 7$\n",
    "\n",
    "**Exemplo Matemático:**\n",
    "Se somarmos os números $4$ e $7$, temos:\n",
    "$$\n",
    "4 + 7 = 11\n",
    "$$\n",
    "Isso significa que a soma de $4$ e $7$ resulta em $11$.\n",
    "\n",
    "---\n",
    "\n",
    "#### 2. **Subtração**\n",
    "A subtração é a operação de remover uma quantidade de outra. É a operação inversa da adição e é simbolizada por $-$.\n",
    "\n",
    "**Propriedades da Subtração:**\n",
    "- **Não Comutativa:** A subtração não é comutativa, ou seja, $a - b \\neq b - a$ na maioria dos casos.\n",
    "  - Exemplo: $5 - 3 \\neq 3 - 5$\n",
    "- **Não Associativa:** $(a - b) - c \\neq a - (b - c)$\n",
    "  - Exemplo: $(10 - 5) - 2 \\neq 10 - (5 - 2)$\n",
    "- **Elemento Neutro:** Assim como na adição, o $0$ é importante, mas de forma diferente. Subtrair $0$ de um número deixa o número inalterado: $a - 0 = a$.\n",
    "\n",
    "**Exemplo Matemático:**\n",
    "Subtraindo $9$ de $15$, temos:\n",
    "$$\n",
    "15 - 9 = 6\n",
    "$$\n",
    "Isso significa que removendo $9$ de $15$, restam $6$.\n",
    "\n",
    "---\n",
    "\n",
    "#### 3. **Multiplicação**\n",
    "A multiplicação é a operação de combinar grupos de um número. Pode ser vista como uma adição repetida. O símbolo da multiplicação é $ \\times $ ou $ \\cdot $.\n",
    "\n",
    "**Propriedades da Multiplicação:**\n",
    "- **Comutatividade:** $a \\times b = b \\times a$\n",
    "  - Exemplo: $4 \\times 3 = 3 \\times 4 = 12$\n",
    "- **Associatividade:** $(a \\times b) \\times c = a \\times (b \\times c)$\n",
    "  - Exemplo: $(2 \\times 3) \\times 4 = 2 \\times (3 \\times 4) = 24$\n",
    "- **Elemento Neutro:** O número $1$ é o elemento neutro da multiplicação, pois $a \\times 1 = a$.\n",
    "  - Exemplo: $9 \\times 1 = 9$\n",
    "- **Distributividade:** A multiplicação é distributiva em relação à adição:\n",
    "  $$\n",
    "  a \\times (b + c) = (a \\times b) + (a \\times c)\n",
    "  $$\n",
    "  - Exemplo: $2 \\times (3 + 4) = 2 \\times 3 + 2 \\times 4 = 14$\n",
    "\n",
    "**Exemplo Matemático:**\n",
    "Multiplicando $6$ por $8$, temos:\n",
    "$$\n",
    "6 \\times 8 = 48\n",
    "$$\n",
    "Isso significa que $6$ grupos de $8$ resultam em $48$.\n",
    "\n",
    "---\n",
    "\n",
    "#### 4. **Divisão**\n",
    "A divisão é a operação de distribuição equitativa de uma quantidade em partes iguais. É o inverso da multiplicação e é simbolizada por $ \\div $ ou $/$.\n",
    "\n",
    "**Propriedades da Divisão:**\n",
    "- **Não Comutativa:** $a \\div b \\neq b \\div a$\n",
    "  - Exemplo: $12 \\div 4 \\neq 4 \\div 12$\n",
    "- **Elemento Neutro:** O número $1$ é o elemento neutro para a divisão: $a \\div 1 = a$.\n",
    "  - Exemplo: $8 \\div 1 = 8$\n",
    "- **Divisão por Zero:** A divisão por zero não é definida na aritmética convencional.\n",
    "\n",
    "**Exemplo Matemático:**\n",
    "Dividindo $20$ por $5$, temos:\n",
    "$$\n",
    "20 \\div 5 = 4\n",
    "$$\n",
    "Isso significa que ao dividir $20$ em $5$ partes iguais, cada parte terá $4$."
   ]
  },
  {
   "cell_type": "markdown",
   "metadata": {},
   "source": [
    "### Aplicando nas linguagens de programações modernas"
   ]
  },
  {
   "cell_type": "code",
   "execution_count": 1,
   "metadata": {},
   "outputs": [
    {
     "name": "stdout",
     "output_type": "stream",
     "text": [
      "Resultados das operações:\n"
     ]
    },
    {
     "data": {
      "text/latex": [
       "$\\displaystyle 56 + 89 = 145$"
      ],
      "text/plain": [
       "<IPython.core.display.Math object>"
      ]
     },
     "metadata": {},
     "output_type": "display_data"
    },
    {
     "data": {
      "text/latex": [
       "$\\displaystyle 56 - 89 = -33$"
      ],
      "text/plain": [
       "<IPython.core.display.Math object>"
      ]
     },
     "metadata": {},
     "output_type": "display_data"
    },
    {
     "data": {
      "text/latex": [
       "$\\displaystyle 56 \\times 89 = 4984$"
      ],
      "text/plain": [
       "<IPython.core.display.Math object>"
      ]
     },
     "metadata": {},
     "output_type": "display_data"
    },
    {
     "data": {
      "text/latex": [
       "$\\displaystyle 56 \\div 89 = 0.6292134831460674$"
      ],
      "text/plain": [
       "<IPython.core.display.Math object>"
      ]
     },
     "metadata": {},
     "output_type": "display_data"
    },
    {
     "data": {
      "text/plain": [
       "0.6292134831460674"
      ]
     },
     "execution_count": 1,
     "metadata": {},
     "output_type": "execute_result"
    }
   ],
   "source": [
    "from IPython.display import display, Math\n",
    "\n",
    "# Funções para cada operação\n",
    "def adicionar(a, b):\n",
    "    resultado = a + b\n",
    "    display(Math(rf\"{a} + {b} = {resultado}\"))\n",
    "    return resultado\n",
    "\n",
    "def subtrair(a, b):\n",
    "    resultado = a - b\n",
    "    display(Math(rf\"{a} - {b} = {resultado}\"))\n",
    "    return resultado\n",
    "\n",
    "def multiplicar(a, b):\n",
    "    resultado = a * b\n",
    "    display(Math(rf\"{a} \\times {b} = {resultado}\"))\n",
    "    return resultado\n",
    "\n",
    "def dividir(a, b):\n",
    "    if b == 0:\n",
    "        display(Math(r\"\\text{Divisão por zero não é definida.}\"))\n",
    "        return None\n",
    "    resultado = a / b\n",
    "    display(Math(rf\"{a} \\div {b} = {resultado}\"))\n",
    "    return resultado\n",
    "\n",
    "# Solicitar os valores do usuário\n",
    "a = int(input(\"Digite o primeiro número: \"))\n",
    "b = int(input(\"Digite o segundo número: \"))\n",
    "\n",
    "# Realizar as operações\n",
    "print(\"Resultados das operações:\")\n",
    "adicionar(a, b)\n",
    "subtrair(a, b)\n",
    "multiplicar(a, b)\n",
    "dividir(a, b)\n"
   ]
  },
  {
   "cell_type": "markdown",
   "metadata": {},
   "source": [
    "---\n",
    "\n",
    "### Conclusão\n",
    "\n",
    "Os fundamentos das operações básicas fornecem a base para a matemática e são essenciais para resolver problemas em várias áreas. A compreensão dessas operações, suas propriedades e como elas se inter-relacionam é crucial para avançar em tópicos mais complexos em matemática e ciências afins."
   ]
  }
 ],
 "metadata": {
  "kernelspec": {
   "display_name": "Python 3",
   "language": "python",
   "name": "python3"
  },
  "language_info": {
   "codemirror_mode": {
    "name": "ipython",
    "version": 3
   },
   "file_extension": ".py",
   "mimetype": "text/x-python",
   "name": "python",
   "nbconvert_exporter": "python",
   "pygments_lexer": "ipython3",
   "version": "3.12.4"
  }
 },
 "nbformat": 4,
 "nbformat_minor": 2
}
