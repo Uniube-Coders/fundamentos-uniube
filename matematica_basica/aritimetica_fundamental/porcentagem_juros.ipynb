{
 "cells": [
  {
   "cell_type": "markdown",
   "metadata": {},
   "source": [
    "## 📚 Porcentagem, Juros Simples e Juros Compostos"
   ]
  },
  {
   "cell_type": "markdown",
   "metadata": {},
   "source": [
    "### **1. Porcentagem**\n",
    "\n",
    "\n",
    "[Clique aqui para ver o vídeo 🎬🎥🔴▶](https://www.youtube.com/watch?v=OjOyNmTt7Mw&list=PLGyv8aUrOlzDEaVkLuw5s41OpbydcFnCG)\n",
    "\n",
    "**Conceito de Porcentagem:**\n",
    "- **Porcentagem** é uma forma de expressar uma razão ou fração cujo denominador é 100. Ela representa uma parte de um todo em 100 partes iguais.\n",
    "- **Símbolo:** A porcentagem é representada pelo símbolo \"%\".\n",
    "- **Forma Geral:** $$ \\text{Porcentagem} = \\frac{\\text{Parte}}{\\text{Total}} \\times 100 $$.\n",
    "\n",
    "**Exemplos de Porcentagem:**\n",
    "- Se você tem 25% de uma quantia de R$100, significa que tem $ 25\\% \\times 100 = 25 $ reais.\n",
    "- Se uma loja oferece um desconto de 10% em um produto que custa R$200, o valor do desconto é $ 10\\% \\times 200 = 20 $ reais, e o preço final será $ 200 - 20 = 180 $ reais.\n",
    "\n",
    "**Cálculo de Porcentagens:**\n",
    "- **Para calcular a porcentagem de um valor:** Multiplique o valor pela porcentagem desejada e divida por 100.\n",
    "  - Exemplo: 15% de R$200 é $ \\frac{15 \\times 200}{100} = 30$  reais.\n",
    "- **Para encontrar o valor total a partir de uma porcentagem:** Se R$30 representa 15% do valor total, o total é $ \\frac{30 \\times 100}{15} = 200 $ reais.\n",
    "\n",
    "**Aumentos e Descontos Percentuais:**\n",
    "- **Aumento Percentual:** Quando se aumenta um valor em uma determinada porcentagem.\n",
    "  - Exemplo: Um salário de R$1.000 com um aumento de 10% resulta em $ 1.000 + (10\\% \\times 1.000) = 1.100 $ reais.\n",
    "- **Desconto Percentual:** Quando se reduz um valor em uma determinada porcentagem.\n",
    "  - Exemplo: Um produto de R$200 com um desconto de 15% resulta em $ 200 - (15\\% \\times 200) = 170 $ reais.\n",
    "\n",
    "**Aplicações da Porcentagem:**\n",
    "- A porcentagem é usada em diversos contextos, como cálculos de taxas de juros, descontos, aumentos de preços, impostos, e estatísticas."
   ]
  },
  {
   "cell_type": "code",
   "execution_count": 5,
   "metadata": {},
   "outputs": [
    {
     "name": "stdout",
     "output_type": "stream",
     "text": [
      "Vamos realizar cálculos com porcentagem.\n",
      "Escolha a operação que deseja realizar:\n",
      "1 - Calcular a Porcentagem de um Valor\n",
      "2 - Calcular o Valor Total a partir de uma Porcentagem\n",
      "3 - Calcular o Valor após um Aumento Percentual\n",
      "4 - Calcular o Valor após um Desconto Percentual\n"
     ]
    },
    {
     "data": {
      "text/latex": [
       "$\\displaystyle \\text{Valor Final com Desconto} = 34.0 - \\frac{12.0 \\times 34.0}{100} = 29.92$"
      ],
      "text/plain": [
       "<IPython.core.display.Math object>"
      ]
     },
     "metadata": {},
     "output_type": "display_data"
    }
   ],
   "source": [
    "from IPython.display import display, Math\n",
    "\n",
    "# Função para calcular a porcentagem de um valor\n",
    "def calcular_porcentagem(parte, total):\n",
    "    porcentagem = (parte / total) * 100\n",
    "    display(Math(rf\"\\text{{Porcentagem}} = \\frac{{{parte}}}{{{total}}} \\times 100 = {porcentagem}\\%\"))\n",
    "    return porcentagem\n",
    "\n",
    "# Função para calcular o valor total a partir de uma porcentagem\n",
    "def calcular_valor_total(parte, porcentagem):\n",
    "    total = (parte * 100) / porcentagem\n",
    "    display(Math(rf\"\\text{{Valor Total}} = \\frac{{{parte} \\times 100}}{{{porcentagem}}} = {total}\"))\n",
    "    return total\n",
    "\n",
    "# Função para calcular o valor após um aumento percentual\n",
    "def calcular_aumento(valor, porcentagem):\n",
    "    aumento = (valor * porcentagem) / 100\n",
    "    valor_final = valor + aumento\n",
    "    display(Math(rf\"\\text{{Valor Final com Aumento}} = {valor} + \\frac{{{porcentagem} \\times {valor}}}{{100}} = {valor_final}\"))\n",
    "    return valor_final\n",
    "\n",
    "# Função para calcular o valor após um desconto percentual\n",
    "def calcular_desconto(valor, porcentagem):\n",
    "    desconto = (valor * porcentagem) / 100\n",
    "    valor_final = valor - desconto\n",
    "    display(Math(rf\"\\text{{Valor Final com Desconto}} = {valor} - \\frac{{{porcentagem} \\times {valor}}}{{100}} = {valor_final}\"))\n",
    "    return valor_final\n",
    "\n",
    "# Solicitar dados do usuário\n",
    "print(\"Vamos realizar cálculos com porcentagem.\")\n",
    "\n",
    "# Escolha da operação\n",
    "print(\"Escolha a operação que deseja realizar:\")\n",
    "print(\"1 - Calcular a Porcentagem de um Valor\")\n",
    "print(\"2 - Calcular o Valor Total a partir de uma Porcentagem\")\n",
    "print(\"3 - Calcular o Valor após um Aumento Percentual\")\n",
    "print(\"4 - Calcular o Valor após um Desconto Percentual\")\n",
    "opcao = int(input(\"Digite o número da operação desejada: \"))\n",
    "\n",
    "if opcao == 1:\n",
    "    parte = float(input(\"Digite o valor da parte: \"))\n",
    "    total = float(input(\"Digite o valor total: \"))\n",
    "    calcular_porcentagem(parte, total)\n",
    "elif opcao == 2:\n",
    "    parte = float(input(\"Digite o valor que representa a porcentagem: \"))\n",
    "    porcentagem = float(input(\"Digite a porcentagem: \"))\n",
    "    calcular_valor_total(parte, porcentagem)\n",
    "elif opcao == 3:\n",
    "    valor = float(input(\"Digite o valor original: \"))\n",
    "    porcentagem = float(input(\"Digite a porcentagem de aumento: \"))\n",
    "    calcular_aumento(valor, porcentagem)\n",
    "elif opcao == 4:\n",
    "    valor = float(input(\"Digite o valor original: \"))\n",
    "    porcentagem = float(input(\"Digite a porcentagem de desconto: \"))\n",
    "    calcular_desconto(valor, porcentagem)\n",
    "else:\n",
    "    print(\"Opção inválida.\")\n"
   ]
  },
  {
   "cell_type": "markdown",
   "metadata": {},
   "source": [
    "### **2. Juros Simples**\n",
    "\n",
    "[Clique aqui para ver o vídeo 🎬🎥🔴▶](https://www.youtube.com/watch?v=WFN5dxBTMgA)\n",
    "\n",
    "**Conceito de Juros Simples:**\n",
    "- **Juros Simples** é o valor adicional pago ou recebido sobre um montante inicial (capital) por um determinado período, com base em uma taxa fixa. O valor dos juros é calculado apenas sobre o capital inicial.\n",
    "- **Fórmula Geral:** $ J = C \\times i \\times t $, onde:\n",
    "  - $ J $ é o valor dos juros.\n",
    "  - $ C $ é o capital inicial.\n",
    "  - $ i $ é a taxa de juros (em decimal).\n",
    "  - $ t $ é o tempo em que o dinheiro é emprestado ou investido.\n",
    "\n",
    "**Exemplo de Cálculo de Juros Simples:**\n",
    "- **Problema:** Você investe R$1.000 a uma taxa de juros simples de 5% ao ano por 3 anos. Quanto você receberá de juros?\n",
    "  - **Solução:** $ J = 1.000 \\times 0,05 \\times 3 = 150 $ reais. O valor total acumulado será $ 1.000 + 150 = 1.150 $ reais.\n",
    "\n",
    "**Aplicações de Juros Simples:**\n",
    "- Juros simples são frequentemente usados em empréstimos de curto prazo, notas promissórias, e financiamentos de bens de consumo.\n",
    "\n",
    "---\n"
   ]
  },
  {
   "cell_type": "code",
   "execution_count": 1,
   "metadata": {},
   "outputs": [
    {
     "name": "stdout",
     "output_type": "stream",
     "text": [
      "Vamos calcular os juros simples.\n"
     ]
    },
    {
     "data": {
      "text/latex": [
       "$\\displaystyle J = C \\times i \\times t$"
      ],
      "text/plain": [
       "<IPython.core.display.Math object>"
      ]
     },
     "metadata": {},
     "output_type": "display_data"
    },
    {
     "data": {
      "text/latex": [
       "$\\displaystyle J = 23.0 \\times 45.0 \\times 6.0 = 6210.0$"
      ],
      "text/plain": [
       "<IPython.core.display.Math object>"
      ]
     },
     "metadata": {},
     "output_type": "display_data"
    },
    {
     "data": {
      "text/latex": [
       "$\\displaystyle \\text{Montante Total} = C + J = 23.0 + 6210.0 = 6233.0$"
      ],
      "text/plain": [
       "<IPython.core.display.Math object>"
      ]
     },
     "metadata": {},
     "output_type": "display_data"
    },
    {
     "data": {
      "text/plain": [
       "(6210.0, 6233.0)"
      ]
     },
     "execution_count": 1,
     "metadata": {},
     "output_type": "execute_result"
    }
   ],
   "source": [
    "from IPython.display import display, Math\n",
    "\n",
    "# Função para calcular os juros simples\n",
    "def calcular_juros_simples(capital, taxa, tempo):\n",
    "    juros = capital * taxa * tempo\n",
    "    display(Math(rf\"J = {capital} \\times {taxa} \\times {tempo} = {juros}\"))\n",
    "    return juros\n",
    "\n",
    "# Função para calcular o capital inicial\n",
    "def calcular_capital(juros, taxa, tempo):\n",
    "    capital = juros / (taxa * tempo)\n",
    "    display(Math(rf\"C = \\frac{{J}}{{i \\times t}} = \\frac{{{juros}}}{{{taxa} \\times {tempo}}} = {capital}\"))\n",
    "    return capital\n",
    "\n",
    "# Função para calcular a taxa de juros\n",
    "def calcular_taxa(juros, capital, tempo):\n",
    "    taxa = juros / (capital * tempo)\n",
    "    display(Math(rf\"i = \\frac{{J}}{{C \\times t}} = \\frac{{{juros}}}{{{capital} \\times {tempo}}} = {taxa}\"))\n",
    "    return taxa\n",
    "\n",
    "# Função para calcular o tempo\n",
    "def calcular_tempo(juros, capital, taxa):\n",
    "    tempo = juros / (capital * taxa)\n",
    "    display(Math(rf\"t = \\frac{{J}}{{C \\times i}} = \\frac{{{juros}}}{{{capital} \\times {taxa}}} = {tempo}\"))\n",
    "    return tempo\n",
    "\n",
    "# Solicitar dados do usuário\n",
    "print(\"Vamos calcular valores relacionados a juros simples.\")\n",
    "\n",
    "# Escolha da variável a ser calculada\n",
    "print(\"Escolha qual variável você deseja calcular:\")\n",
    "print(\"1 - Juros (J)\")\n",
    "print(\"2 - Capital Inicial (C)\")\n",
    "print(\"3 - Taxa de Juros (i)\")\n",
    "print(\"4 - Tempo (t)\")\n",
    "opcao = int(input(\"Digite o número da variável que deseja calcular: \"))\n",
    "\n",
    "if opcao == 1:\n",
    "    capital = float(input(\"Digite o capital inicial (C): \"))\n",
    "    taxa = float(input(\"Digite a taxa de juros (i) em decimal (por exemplo, 5% como 0,05): \"))\n",
    "    tempo = float(input(\"Digite o tempo (t) em anos: \"))\n",
    "    calcular_juros_simples(capital, taxa, tempo)\n",
    "elif opcao == 2:\n",
    "    juros = float(input(\"Digite o valor dos juros (J): \"))\n",
    "    taxa = float(input(\"Digite a taxa de juros (i) em decimal (por exemplo, 5% como 0,05): \"))\n",
    "    tempo = float(input(\"Digite o tempo (t) em anos: \"))\n",
    "    calcular_capital(juros, taxa, tempo)\n",
    "elif opcao == 3:\n",
    "    juros = float(input(\"Digite o valor dos juros (J): \"))\n",
    "    capital = float(input(\"Digite o capital inicial (C): \"))\n",
    "    tempo = float(input(\"Digite o tempo (t) em anos: \"))\n",
    "    calcular_taxa(juros, capital, tempo)\n",
    "elif opcao == 4:\n",
    "    juros = float(input(\"Digite o valor dos juros (J): \"))\n",
    "    capital = float(input(\"Digite o capital inicial (C): \"))\n",
    "    taxa = float(input(\"Digite a taxa de juros (i) em decimal (por exemplo, 5% como 0,05): \"))\n",
    "    calcular_tempo(juros, capital, taxa)\n",
    "else:\n",
    "    print(\"Opção inválida.\")\n"
   ]
  },
  {
   "cell_type": "markdown",
   "metadata": {},
   "source": [
    "### **3. Juros Compostos**\n",
    "\n",
    "[Clique aqui para ver o vídeo 🎬🎥🔴▶](https://www.youtube.com/watch?v=ZMsieXqXwMg)\n",
    "\n",
    "**Conceito de Juros Compostos:**\n",
    "- **Juros Compostos** é o valor adicional pago ou recebido sobre um montante inicial, onde os juros de cada período são somados ao capital, e os juros futuros são calculados sobre esse novo valor. Isso significa que, em cada período, os juros são calculados sobre o capital inicial mais os juros acumulados dos períodos anteriores.\n",
    "- **Fórmula Geral:** $ M = C \\times (1 + i)^t $, onde:\n",
    "  - $ M $ é o montante total após $ t $ períodos.\n",
    "  - $ C $ é o capital inicial.\n",
    "  - $ i $ é a taxa de juros por período (em decimal).\n",
    "  - $ t $ é o número de períodos.\n",
    "\n",
    "**Exemplo de Cálculo de Juros Compostos:**\n",
    "- **Problema:** Você investe R$1.000 a uma taxa de juros compostos de 5% ao ano por 3 anos. Quanto será o montante acumulado?\n",
    "  - **Solução:** $ M = 1.000 \\times (1 + 0,05)^3 = 1.000 \\times 1,157625 = 1.157,63 $ reais.\n",
    "  - Os juros acumulados serão $ 1.157,63 - 1.000 = 157,63 $ reais.\n",
    "\n",
    "**Diferença entre Juros Simples e Juros Compostos:**\n",
    "- **Juros Simples:** O montante total cresce de forma linear, pois os juros são calculados sempre sobre o capital inicial.\n",
    "- **Juros Compostos:** O montante total cresce de forma exponencial, pois os juros são calculados sobre o capital inicial somado aos juros acumulados dos períodos anteriores.\n",
    "\n",
    "**Aplicações de Juros Compostos:**\n",
    "- Juros compostos são usados em investimentos de longo prazo, como contas de poupança, fundos de investimento, hipotecas, e financiamentos de longo prazo.\n",
    "\n",
    "---\n"
   ]
  },
  {
   "cell_type": "code",
   "execution_count": 5,
   "metadata": {},
   "outputs": [
    {
     "name": "stdout",
     "output_type": "stream",
     "text": [
      "Vamos calcular valores relacionados a juros compostos.\n",
      "Escolha qual variável você deseja calcular:\n",
      "1 - Montante (M)\n",
      "2 - Capital Inicial (C)\n",
      "3 - Taxa de Juros (i)\n",
      "4 - Tempo (t)\n"
     ]
    },
    {
     "data": {
      "text/latex": [
       "$\\displaystyle t = \\frac{\\log\\left(\\frac{M}{C}\\right)}{\\log(1 + i)}$"
      ],
      "text/plain": [
       "<IPython.core.display.Math object>"
      ]
     },
     "metadata": {},
     "output_type": "display_data"
    },
    {
     "data": {
      "text/latex": [
       "$\\displaystyle t = \\frac{\\log\\left(\\frac{123.0}{43.0}\\right)}{\\log(1 + 21.0)} = 0.340009642551818$"
      ],
      "text/plain": [
       "<IPython.core.display.Math object>"
      ]
     },
     "metadata": {},
     "output_type": "display_data"
    }
   ],
   "source": [
    "from IPython.display import display, Math\n",
    "import sympy as sp\n",
    "\n",
    "# Função para calcular o montante (M)\n",
    "def calcular_montante(capital, taxa, tempo):\n",
    "    montante = capital * (1 + taxa)**tempo\n",
    "    display(Math(rf\"M = C \\times (1 + i)^t\"))\n",
    "    display(Math(rf\"M = {capital} \\times (1 + {taxa})^{tempo} = {montante}\"))\n",
    "    return montante\n",
    "\n",
    "# Função para calcular o capital inicial (C)\n",
    "def calcular_capital(montante, taxa, tempo):\n",
    "    capital = montante / (1 + taxa)**tempo\n",
    "    display(Math(rf\"C = \\frac{{M}}{{(1 + i)^t}} = \\frac{{{montante}}}{{(1 + {taxa})^{tempo}}} = {capital}\"))\n",
    "    return capital\n",
    "\n",
    "# Função para calcular a taxa de juros (i)\n",
    "def calcular_taxa(montante, capital, tempo):\n",
    "    taxa = (montante / capital)**(1/tempo) - 1\n",
    "    display(Math(rf\"i = \\left(\\frac{{M}}{{C}}\\right)^\\frac{1}{t} - 1\"))\n",
    "    display(Math(rf\"i = \\left(\\frac{{{montante}}}{{{capital}}}\\right)^\\frac{1}{{{tempo}}} - 1 = {taxa}\"))\n",
    "    return taxa\n",
    "\n",
    "# Função para calcular o tempo (t)\n",
    "def calcular_tempo(montante, capital, taxa):\n",
    "    tempo = sp.log(montante / capital) / sp.log(1 + taxa)\n",
    "    display(Math(rf\"t = \\frac{{\\log\\left(\\frac{{M}}{{C}}\\right)}}{{\\log(1 + i)}}\"))\n",
    "    display(Math(rf\"t = \\frac{{\\log\\left(\\frac{{{montante}}}{{{capital}}}\\right)}}{{\\log(1 + {taxa})}} = {tempo}\"))\n",
    "    return tempo\n",
    "\n",
    "# Solicitar dados do usuário\n",
    "print(\"Vamos calcular valores relacionados a juros compostos.\")\n",
    "\n",
    "# Escolha da variável a ser calculada\n",
    "print(\"Escolha qual variável você deseja calcular:\")\n",
    "print(\"1 - Montante (M)\")\n",
    "print(\"2 - Capital Inicial (C)\")\n",
    "print(\"3 - Taxa de Juros (i)\")\n",
    "print(\"4 - Tempo (t)\")\n",
    "opcao = int(input(\"Digite o número da variável que deseja calcular: \"))\n",
    "\n",
    "if opcao == 1:\n",
    "    capital = float(input(\"Digite o capital inicial (C): \"))\n",
    "    taxa = float(input(\"Digite a taxa de juros (i) em decimal (por exemplo, 5% como 0,05): \"))\n",
    "    tempo = float(input(\"Digite o tempo (t) em anos: \"))\n",
    "    calcular_montante(capital, taxa, tempo)\n",
    "elif opcao == 2:\n",
    "    montante = float(input(\"Digite o valor do montante (M): \"))\n",
    "    taxa = float(input(\"Digite a taxa de juros (i) em decimal (por exemplo, 5% como 0,05): \"))\n",
    "    tempo = float(input(\"Digite o tempo (t) em anos: \"))\n",
    "    calcular_capital(montante, taxa, tempo)\n",
    "elif opcao == 3:\n",
    "    montante = float(input(\"Digite o valor do montante (M): \"))\n",
    "    capital = float(input(\"Digite o capital inicial (C): \"))\n",
    "    tempo = float(input(\"Digite o tempo (t) em anos: \"))\n",
    "    calcular_taxa(montante, capital, tempo)\n",
    "elif opcao == 4:\n",
    "    montante = float(input(\"Digite o valor do montante (M): \"))\n",
    "    capital = float(input(\"Digite o capital inicial (C): \"))\n",
    "    taxa = float(input(\"Digite a taxa de juros (i) em decimal (por exemplo, 5% como 0,05): \"))\n",
    "    calcular_tempo(montante, capital, taxa)\n",
    "else:\n",
    "    print(\"Opção inválida.\")\n"
   ]
  }
 ],
 "metadata": {
  "kernelspec": {
   "display_name": "Python 3",
   "language": "python",
   "name": "python3"
  },
  "language_info": {
   "codemirror_mode": {
    "name": "ipython",
    "version": 3
   },
   "file_extension": ".py",
   "mimetype": "text/x-python",
   "name": "python",
   "nbconvert_exporter": "python",
   "pygments_lexer": "ipython3",
   "version": "3.12.4"
  }
 },
 "nbformat": 4,
 "nbformat_minor": 2
}
