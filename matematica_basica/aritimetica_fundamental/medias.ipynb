{
 "cells": [
  {
   "cell_type": "markdown",
   "metadata": {},
   "source": [
    "## 📚 Médias\n",
    "\n",
    "### **1. Conceito Geral de Média**\n",
    "\n",
    "**Média** é um conceito central na estatística que serve para resumir um conjunto de dados em um único valor representativo. Ela indica a tendência central ou o ponto em torno do qual os dados se concentram. Diferentes tipos de médias são usados para diferentes tipos de conjuntos de dados e contextos, e a escolha da média apropriada pode revelar informações importantes sobre o conjunto de dados.\n"
   ]
  },
  {
   "cell_type": "markdown",
   "metadata": {},
   "source": [
    "### **2. Média Aritmética**\n",
    "\n",
    "[Clique aqui para ver o vídeo 🎬🎥🔴▶](https://www.youtube.com/watch?v=8koruwH84pY)\n",
    "\n",
    "\n",
    "**Definição:**\n",
    "- A **média aritmética** é a forma mais comum e simples de média. Ela é calculada somando todos os valores de um conjunto de dados e dividindo essa soma pelo número total de valores. A média aritmética é apropriada para dados que são distribuídos de maneira relativamente uniforme.\n",
    "- **Fórmula Geral:** \n",
    "  $$\n",
    "  \\bar{x} = \\frac{\\sum_{i=1}^{n} x_i}{n}\n",
    "  $$\n",
    "  onde:\n",
    "  - $ \\bar{x} $ é a média aritmética.\n",
    "  - $ x_i $ representa cada valor individual no conjunto de dados.\n",
    "  - $ n $ é o número total de valores no conjunto de dados.\n",
    "\n",
    "**Exemplo de Cálculo:**\n",
    "- Suponha que temos um conjunto de quatro números: 5, 8, 10, e 12.\n",
    "  - **Passo 1:** Some todos os valores: $ 5 + 8 + 10 + 12 = 35 $.\n",
    "  - **Passo 2:** Divida essa soma pelo número total de valores: $ \\frac{35}{4} = 8,75 $.\n",
    "  - **Resultado:** A média aritmética é 8,75.\n",
    "\n",
    "**Interpretação:**\n",
    "- A média aritmética indica o valor central onde, se todos os dados fossem redistribuídos uniformemente, cada valor seria igual à média. É usada para dados quantitativos contínuos, como alturas, pesos, idades, notas escolares, etc.\n",
    "\n",
    "**Limitações:**\n",
    "- A média aritmética pode ser influenciada por valores extremos (outliers), que podem distorcer a percepção do \"centro\" dos dados."
   ]
  },
  {
   "cell_type": "code",
   "execution_count": 2,
   "metadata": {},
   "outputs": [
    {
     "name": "stdout",
     "output_type": "stream",
     "text": [
      "Vamos calcular a média aritmética de um conjunto de valores.\n"
     ]
    },
    {
     "data": {
      "text/latex": [
       "$\\displaystyle \\text{Média Aritmética} = \\frac{23.0 + 43.0 + 2.0 + 4.0 + 12.0}{5} = \\frac{84.0}{5} = 16.8$"
      ],
      "text/plain": [
       "<IPython.core.display.Math object>"
      ]
     },
     "metadata": {},
     "output_type": "display_data"
    },
    {
     "data": {
      "text/plain": [
       "16.8"
      ]
     },
     "execution_count": 2,
     "metadata": {},
     "output_type": "execute_result"
    }
   ],
   "source": [
    "from IPython.display import display, Math\n",
    "\n",
    "# Função para calcular a média aritmética\n",
    "def calcular_media_aritmetica(valores):\n",
    "    n = len(valores)\n",
    "    soma = sum(valores)\n",
    "    media = soma / n\n",
    "    valores_str = ' + '.join(map(str, valores))\n",
    "    display(Math(rf\"\\text{{Média Aritmética}} = \\frac{{{valores_str}}}{{{n}}} = \\frac{{{soma}}}{{{n}}} = {media}\"))\n",
    "    return media\n",
    "\n",
    "# Solicitar dados do usuário\n",
    "print(\"Vamos calcular a média aritmética de um conjunto de valores.\")\n",
    "\n",
    "# Solicitar a quantidade de valores\n",
    "n = int(input(\"Digite o número de valores no conjunto: \"))\n",
    "valores = []\n",
    "\n",
    "# Solicitar cada valor individualmente\n",
    "for i in range(n):\n",
    "    valor = float(input(f\"Digite o valor {i+1}: \"))\n",
    "    valores.append(valor)\n",
    "\n",
    "# Calcular e mostrar a média aritmética\n",
    "calcular_media_aritmetica(valores)\n"
   ]
  },
  {
   "cell_type": "markdown",
   "metadata": {},
   "source": [
    "### **3. Média Ponderada**\n",
    "\n",
    "**Definição:**\n",
    "- A **média ponderada** é uma variação da média aritmética, onde diferentes valores do conjunto de dados têm diferentes importâncias ou \"pesos\". Cada valor é multiplicado por seu peso correspondente, e a soma dos produtos é então dividida pela soma dos pesos.\n",
    "- **Fórmula Geral:** \n",
    "  $$\n",
    "  \\bar{x}_p = \\frac{\\sum_{i=1}^{n} w_i \\times x_i}{\\sum_{i=1}^{n} w_i}\n",
    "  $$\n",
    "  onde:\n",
    "  - $ \\bar{x}_p $ é a média ponderada.\n",
    "  - $ x_i $ representa cada valor individual.\n",
    "  - $ w_i $ é o peso atribuído a cada valor.\n",
    "  - $ \\sum w_i $ é a soma total dos pesos.\n",
    "\n",
    "**Exemplo de Cálculo:**\n",
    "- Suponha que as notas de um aluno em três disciplinas são 70, 85 e 90, com pesos de 2, 3 e 5, respectivamente.\n",
    "  - **Passo 1:** Multiplique cada nota pelo peso correspondente: $ 70 \\times 2 = 140 $, $ 85 \\times 3 = 255 $, $ 90 \\times 5 = 450 $.\n",
    "  - **Passo 2:** Some os produtos: $ 140 + 255 + 450 = 845 $.\n",
    "  - **Passo 3:** Some os pesos: $ 2 + 3 + 5 = 10 $.\n",
    "  - **Passo 4:** Divida a soma dos produtos pela soma dos pesos: $ \\frac{845}{10} = 84,5 $.\n",
    "  - **Resultado:** A média ponderada é 84,5.\n",
    "\n",
    "**Interpretação:**\n",
    "- A média ponderada reflete o valor central de um conjunto de dados onde alguns valores têm mais influência ou importância do que outros. É útil em situações como o cálculo de notas escolares, onde diferentes disciplinas ou avaliações podem ter diferentes pesos na nota final.\n",
    "\n",
    "**Limitações:**\n",
    "- Se os pesos não forem atribuídos corretamente, a média ponderada pode dar uma visão distorcida dos dados."
   ]
  },
  {
   "cell_type": "code",
   "execution_count": null,
   "metadata": {},
   "outputs": [],
   "source": [
    "from IPython.display import display, Math\n",
    "\n",
    "# Função para calcular a média ponderada\n",
    "def calcular_media_ponderada(valores, pesos):\n",
    "    soma_produtos = sum(v * p for v, p in zip(valores, pesos))\n",
    "    soma_pesos = sum(pesos)\n",
    "    media_ponderada = soma_produtos / soma_pesos\n",
    "    \n",
    "    valores_str = ' + '.join([f\"{v} \\times {p}\" for v, p in zip(valores, pesos)])\n",
    "    display(Math(rf\"\\text{{Média Ponderada}} = \\frac{{\\sum w_i \\times x_i}}{{\\sum w_i}} = \\frac{{{valores_str}}}{{{soma_pesos}}} = \\frac{{{soma_produtos}}}{{{soma_pesos}}} = {media_ponderada}\"))\n",
    "    \n",
    "    return media_ponderada\n",
    "\n",
    "# Solicitar dados do usuário\n",
    "print(\"Vamos calcular a média ponderada de um conjunto de valores.\")\n",
    "\n",
    "# Solicitar a quantidade de valores\n",
    "n = int(input(\"Digite o número de valores no conjunto: \"))\n",
    "valores = []\n",
    "pesos = []\n",
    "\n",
    "# Solicitar cada valor e seu peso correspondente\n",
    "for i in range(n):\n",
    "    valor = float(input(f\"Digite o valor {i+1}: \"))\n",
    "    peso = float(input(f\"Digite o peso para o valor {i+1}: \"))\n",
    "    valores.append(valor)\n",
    "    pesos.append(peso)\n",
    "\n",
    "# Calcular e mostrar a média ponderada\n",
    "calcular_media_ponderada(valores, pesos)\n"
   ]
  },
  {
   "cell_type": "markdown",
   "metadata": {},
   "source": [
    "### **4. Média Geométrica**\n",
    "\n",
    "**Definição:**\n",
    "- A **média geométrica** é mais apropriada para conjuntos de dados que envolvem multiplicações ou que estão em uma escala logarítmica. Ela é a raiz n-ésima do produto de $ n $ valores. A média geométrica é frequentemente usada em taxas de crescimento, retornos de investimentos e outras situações onde os dados variam multiplicativamente.\n",
    "- **Fórmula Geral:** \n",
    "  $$\n",
    "  \\bar{x}_g = \\sqrt[n]{x_1 \\times x_2 \\times \\cdots \\times x_n}\n",
    "  $$\n",
    "  onde:\n",
    "  - $ \\bar{x}_g $ é a média geométrica.\n",
    "  - $ n $ é o número de valores.\n",
    "  - $ x_1, x_2, \\dots, x_n $ são os valores do conjunto.\n",
    "\n",
    "**Exemplo de Cálculo:**\n",
    "- Suponha que temos os números 2, 8, e 32.\n",
    "  - **Passo 1:** Multiplique todos os valores: $ 2 \\times 8 \\times 32 = 512 $.\n",
    "  - **Passo 2:** Extraia a raiz cúbica (porque são três valores): $ \\sqrt[3]{512} = 8 $.\n",
    "  - **Resultado:** A média geométrica é 8.\n",
    "\n",
    "**Interpretação:**\n",
    "- A média geométrica é mais representativa do que a média aritmética em contextos onde os dados variam multiplicativamente, como o crescimento populacional ou taxas de juros compostos. Ela minimiza a influência de grandes valores extremos e é mais adequada para dados positivos.\n",
    "\n",
    "**Limitações:**\n",
    "- A média geométrica só pode ser calculada para números positivos, e não é apropriada para dados que incluem valores negativos ou zero.\n"
   ]
  },
  {
   "cell_type": "code",
   "execution_count": 5,
   "metadata": {},
   "outputs": [
    {
     "name": "stdout",
     "output_type": "stream",
     "text": [
      "Vamos calcular a média geométrica de um conjunto de valores.\n"
     ]
    },
    {
     "data": {
      "text/latex": [
       "$\\displaystyle \\text{Média Geométrica} = \\sqrt[2]{12.0 \\times 43.0} = \\sqrt[2]{516.0} = 22.715633383201094$"
      ],
      "text/plain": [
       "<IPython.core.display.Math object>"
      ]
     },
     "metadata": {},
     "output_type": "display_data"
    }
   ],
   "source": [
    "from IPython.display import display, Math\n",
    "import numpy as np\n",
    "\n",
    "# Função para calcular a média geométrica\n",
    "def calcular_media_geometrica(valores):\n",
    "    produto = np.prod(valores)\n",
    "    n = len(valores)\n",
    "    media_geometrica = produto ** (1/n)\n",
    "    \n",
    "    valores_str = ' \\\\times '.join(map(str, valores))\n",
    "    display(Math(rf\"\\text{{Média Geométrica}} = \\sqrt[{n}]{{{valores_str}}} = \\sqrt[{n}]{{{produto}}} = {media_geometrica}\"))\n",
    "    \n",
    "    return media_geometrica\n",
    "\n",
    "# Solicitar dados do usuário\n",
    "print(\"Vamos calcular a média geométrica de um conjunto de valores.\")\n",
    "\n",
    "# Solicitar a quantidade de valores\n",
    "n = int(input(\"Digite o número de valores no conjunto: \"))\n",
    "valores = []\n",
    "\n",
    "# Solicitar cada valor individualmente\n",
    "for i in range(n):\n",
    "    valor = float(input(f\"Digite o valor {i+1}: \"))\n",
    "    valores.append(valor)\n",
    "\n",
    "# Verificar se todos os valores são positivos\n",
    "if all(v > 0 for v in valores):\n",
    "    # Calcular e mostrar a média geométrica\n",
    "    calcular_media_geometrica(valores)\n",
    "else:\n",
    "    print(\"Todos os valores devem ser positivos para calcular a média geométrica.\")\n"
   ]
  },
  {
   "cell_type": "markdown",
   "metadata": {},
   "source": [
    "### **5. Média Harmônica**\n",
    "\n",
    "**Definição:**\n",
    "- A **média harmônica** é a recíproca da média aritmética dos recíprocos de um conjunto de números. É particularmente útil em situações onde estamos interessados em médias de taxas, como velocidade média ou densidade populacional.\n",
    "- **Fórmula Geral:** \n",
    "  $$\n",
    "  \\bar{x}_h = \\frac{n}{\\sum_{i=1}^{n} \\frac{1}{x_i}}\n",
    "  $$\n",
    "  onde:\n",
    "  - $ \\bar{x}_h $ é a média harmônica.\n",
    "  - $ n $ é o número de valores.\n",
    "  - $ x_1, x_2, \\dots, x_n $ são os valores do conjunto.\n",
    "\n",
    "**Exemplo de Cálculo:**\n",
    "- Suponha que você precisa calcular a média harmônica das velocidades 60 km/h e 80 km/h em uma viagem de ida e volta.\n",
    "  - **Passo 1:** Calcule os recíprocos: $ \\frac{1}{60} $ e $ \\frac{1}{80} $.\n",
    "  - **Passo 2:** Some os recíprocos: $ \\frac{1}{60} + \\frac{1}{80} = \\frac{4 + 3}{240} = \\frac{7}{240} $.\n",
    "  - **Passo 3:** Divida o número de valores pela soma dos recíprocos: $ \\bar{x}_h = \\frac{2}{\\frac{7}{240}} = \\frac{2 \\times 240}{7} \\approx 68,57 $ km/h.\n",
    "  - **Resultado:** A média harmônica é aproximadamente 68,57 km/h.\n",
    "\n",
    "**Interpretação:**\n",
    "- A média harmônica é mais adequada para calcular a média de razões ou taxas. Por exemplo, se um veículo viaja distâncias iguais a diferentes velocidades, a média harmônica fornece a velocidade média global.\n",
    "\n",
    "**Limitações:**\n",
    "- A média harmônica pode ser distorcida por valores extremamente pequenos e não é apropriada para conjuntos de dados que incluem valores zero.\n"
   ]
  },
  {
   "cell_type": "code",
   "execution_count": 6,
   "metadata": {},
   "outputs": [
    {
     "name": "stdout",
     "output_type": "stream",
     "text": [
      "Vamos calcular a média harmônica de um conjunto de valores.\n"
     ]
    },
    {
     "data": {
      "text/latex": [
       "$\\displaystyle \\text{Média Harmônica} = \\frac{n}{\\sum_{i=1}^{n} \\frac{1}{x_i}} = \\frac{5}{\\frac{1}{21.0} + \\frac{1}{56.0} + \\frac{1}{4.0} + \\frac{1}{0.5} + \\frac{1}{4.6}} = \\frac{5}{2.5328674948240164} = 1.974047205476653$"
      ],
      "text/plain": [
       "<IPython.core.display.Math object>"
      ]
     },
     "metadata": {},
     "output_type": "display_data"
    }
   ],
   "source": [
    "from IPython.display import display, Math\n",
    "\n",
    "# Função para calcular a média harmônica\n",
    "def calcular_media_harmonica(valores):\n",
    "    n = len(valores)\n",
    "    soma_reciprocos = sum(1/v for v in valores)\n",
    "    media_harmonica = n / soma_reciprocos\n",
    "    \n",
    "    reciprocos_str = ' + '.join([f\"\\\\frac{{1}}{{{v}}}\" for v in valores])\n",
    "    display(Math(rf\"\\text{{Média Harmônica}} = \\frac{{n}}{{\\sum_{{i=1}}^{{n}} \\frac{{1}}{{x_i}}}} = \\frac{{{n}}}{{{reciprocos_str}}} = \\frac{{{n}}}{{{soma_reciprocos}}} = {media_harmonica}\"))\n",
    "    \n",
    "    return media_harmonica\n",
    "\n",
    "# Solicitar dados do usuário\n",
    "print(\"Vamos calcular a média harmônica de um conjunto de valores.\")\n",
    "\n",
    "# Solicitar a quantidade de valores\n",
    "n = int(input(\"Digite o número de valores no conjunto: \"))\n",
    "valores = []\n",
    "\n",
    "# Solicitar cada valor individualmente\n",
    "for i in range(n):\n",
    "    valor = float(input(f\"Digite o valor {i+1}: \"))\n",
    "    valores.append(valor)\n",
    "\n",
    "# Verificar se todos os valores são positivos e diferentes de zero\n",
    "if all(v > 0 for v in valores):\n",
    "    # Calcular e mostrar a média harmônica\n",
    "    calcular_media_harmonica(valores)\n",
    "else:\n",
    "    print(\"Todos os valores devem ser positivos e diferentes de zero para calcular a média harmônica.\")\n"
   ]
  },
  {
   "cell_type": "markdown",
   "metadata": {},
   "source": [
    "---\n",
    "\n",
    "\n",
    "### **6. Comparação entre as Médias**\n",
    "\n",
    "- **Média Aritmética:** É a mais simples e intuitiva, usada para dados distribuídos uniformemente. Contudo, pode ser influenciada por outliers (valores extremos).\n",
    "- **Média Ponderada:** É mais adequada quando alguns valores no conjunto de dados têm mais importância que outros. A precisão da média ponderada depende dos pesos atribuídos.\n",
    "- **Média Geométrica:** Ideal para taxas de crescimento e dados multiplicativos. Menos influenciada por outliers, mas só funciona para números positivos.\n",
    "- **Média Harmônica:** Melhor para médias de razões ou taxas, especialmente quando os dados têm variação inversa. Pode ser sensível a valores muito baixos.\n"
   ]
  },
  {
   "cell_type": "markdown",
   "metadata": {},
   "source": [
    "---\n",
    "\n",
    "### **7. Aplicações das Médias**\n",
    "\n",
    "As médias têm inúmeras aplicações práticas em diversas áreas:\n",
    "\n",
    "- **Educação:** A média aritmética é amplamente usada para calcular notas médias de estudantes.\n",
    "- **Finanças:** A média geométrica é usada para calcular o retorno médio de investimentos ao longo do tempo.\n",
    "- **Economia:** A média ponderada pode ser utilizada para calcular índices de preços ao consumidor (CPI).\n",
    "- **Engenharia:**\n",
    "\n",
    " A média harmônica é aplicada no cálculo da resistência média de materiais compostos.\n",
    "- **Ciência:** Médias são usadas para resumir dados experimentais, como resultados de medições repetidas.\n",
    "\n",
    "---"
   ]
  }
 ],
 "metadata": {
  "kernelspec": {
   "display_name": "Python 3",
   "language": "python",
   "name": "python3"
  },
  "language_info": {
   "codemirror_mode": {
    "name": "ipython",
    "version": 3
   },
   "file_extension": ".py",
   "mimetype": "text/x-python",
   "name": "python",
   "nbconvert_exporter": "python",
   "pygments_lexer": "ipython3",
   "version": "3.12.4"
  }
 },
 "nbformat": 4,
 "nbformat_minor": 2
}
